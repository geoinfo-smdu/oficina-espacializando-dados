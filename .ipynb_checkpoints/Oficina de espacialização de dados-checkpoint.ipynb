{
 "cells": [
  {
   "cell_type": "markdown",
   "metadata": {},
   "source": [
    "# Oficina de espacialização de dados\n",
    "\n",
    "* Conjunto de dados com diversas dimensões\n",
    "* Entre elas, pelo menos uma dimenção que possibilite a sua localização Geo-espacial\n"
   ]
  },
  {
   "cell_type": "markdown",
   "metadata": {},
   "source": [
    "## Espacializando o IPTU 2020\n",
    "\n",
    "* SQL&C (Setor, Quadra, Lote e Condomínio)\n",
    "* Geometria dos lotes (SF)\n",
    "* Potencialidades e possibilidades\n",
    "* https://github.com/geoinfo-smdu/georeferenciamento-do-iptu"
   ]
  },
  {
   "cell_type": "markdown",
   "metadata": {},
   "source": [
    "### Carregando o conjunto de dados de IPTU"
   ]
  },
  {
   "cell_type": "code",
   "execution_count": 1,
   "metadata": {},
   "outputs": [],
   "source": [
    "# Importando a bliblioteca pandas\n",
    "\n",
    "import pandas as pd"
   ]
  },
  {
   "cell_type": "code",
   "execution_count": 2,
   "metadata": {},
   "outputs": [
    {
     "data": {
      "text/html": [
       "<pre>✔️ 663 µs (2021-02-19T17:18:37/2021-02-19T17:18:37)</pre>"
      ],
      "text/plain": [
       "<IPython.core.display.HTML object>"
      ]
     },
     "metadata": {},
     "output_type": "display_data"
    }
   ],
   "source": [
    "# Carrengando um complemento para visualizar quanto tempo demoram as tarefas\n",
    "\n",
    "%load_ext autotime"
   ]
  },
  {
   "cell_type": "code",
   "execution_count": 3,
   "metadata": {},
   "outputs": [
    {
     "data": {
      "text/html": [
       "<pre>✔️ 19 s (2021-02-19T17:18:37/2021-02-19T17:18:56)</pre>"
      ],
      "text/plain": [
       "<IPython.core.display.HTML object>"
      ]
     },
     "metadata": {},
     "output_type": "display_data"
    }
   ],
   "source": [
    "# Carregando o conjunto de dados para uma variável em memória\n",
    "\n",
    "df_iptu = pd.read_csv('IPTU/IPTU_2020.zip', compression='zip', encoding='iso-8859-9', sep=';', decimal=',')"
   ]
  },
  {
   "cell_type": "code",
   "execution_count": 4,
   "metadata": {},
   "outputs": [
    {
     "data": {
      "text/html": [
       "<pre>✔️ 84.2 ms (2021-02-19T17:18:56/2021-02-19T17:18:56)</pre>"
      ],
      "text/plain": [
       "<IPython.core.display.HTML object>"
      ]
     },
     "metadata": {},
     "output_type": "display_data"
    },
    {
     "data": {
      "text/html": [
       "<div>\n",
       "<style scoped>\n",
       "    .dataframe tbody tr th:only-of-type {\n",
       "        vertical-align: middle;\n",
       "    }\n",
       "\n",
       "    .dataframe tbody tr th {\n",
       "        vertical-align: top;\n",
       "    }\n",
       "\n",
       "    .dataframe thead th {\n",
       "        text-align: right;\n",
       "    }\n",
       "</style>\n",
       "<table border=\"1\" class=\"dataframe\">\n",
       "  <thead>\n",
       "    <tr style=\"text-align: right;\">\n",
       "      <th></th>\n",
       "      <th>NUMERO DO CONTRIBUINTE</th>\n",
       "      <th>NUMERO DO CONDOMINIO</th>\n",
       "    </tr>\n",
       "  </thead>\n",
       "  <tbody>\n",
       "    <tr>\n",
       "      <th>0</th>\n",
       "      <td>0010030001-4</td>\n",
       "      <td>00-0</td>\n",
       "    </tr>\n",
       "    <tr>\n",
       "      <th>1</th>\n",
       "      <td>0010030002-2</td>\n",
       "      <td>00-0</td>\n",
       "    </tr>\n",
       "    <tr>\n",
       "      <th>2</th>\n",
       "      <td>0010030003-0</td>\n",
       "      <td>00-0</td>\n",
       "    </tr>\n",
       "    <tr>\n",
       "      <th>3</th>\n",
       "      <td>0010030004-9</td>\n",
       "      <td>00-0</td>\n",
       "    </tr>\n",
       "    <tr>\n",
       "      <th>4</th>\n",
       "      <td>0010030005-7</td>\n",
       "      <td>00-0</td>\n",
       "    </tr>\n",
       "    <tr>\n",
       "      <th>...</th>\n",
       "      <td>...</td>\n",
       "      <td>...</td>\n",
       "    </tr>\n",
       "    <tr>\n",
       "      <th>3498639</th>\n",
       "      <td>3101180238-1</td>\n",
       "      <td>01-9</td>\n",
       "    </tr>\n",
       "    <tr>\n",
       "      <th>3498640</th>\n",
       "      <td>3101180239-1</td>\n",
       "      <td>01-9</td>\n",
       "    </tr>\n",
       "    <tr>\n",
       "      <th>3498641</th>\n",
       "      <td>3101180240-3</td>\n",
       "      <td>01-9</td>\n",
       "    </tr>\n",
       "    <tr>\n",
       "      <th>3498642</th>\n",
       "      <td>3101190001-4</td>\n",
       "      <td>00-0</td>\n",
       "    </tr>\n",
       "    <tr>\n",
       "      <th>3498643</th>\n",
       "      <td>3101200001-7</td>\n",
       "      <td>00-0</td>\n",
       "    </tr>\n",
       "  </tbody>\n",
       "</table>\n",
       "<p>3498644 rows × 2 columns</p>\n",
       "</div>"
      ],
      "text/plain": [
       "        NUMERO DO CONTRIBUINTE NUMERO DO CONDOMINIO\n",
       "0                 0010030001-4                 00-0\n",
       "1                 0010030002-2                 00-0\n",
       "2                 0010030003-0                 00-0\n",
       "3                 0010030004-9                 00-0\n",
       "4                 0010030005-7                 00-0\n",
       "...                        ...                  ...\n",
       "3498639           3101180238-1                 01-9\n",
       "3498640           3101180239-1                 01-9\n",
       "3498641           3101180240-3                 01-9\n",
       "3498642           3101190001-4                 00-0\n",
       "3498643           3101200001-7                 00-0\n",
       "\n",
       "[3498644 rows x 2 columns]"
      ]
     },
     "execution_count": 4,
     "metadata": {},
     "output_type": "execute_result"
    }
   ],
   "source": [
    "# Precisamos determinar o Setor, a Quadra, o Lote e eventualmente o condomínio para\n",
    "# determinar qual geometria pertence a cada registro de IPTU\n",
    "\n",
    "df_iptu[['NUMERO DO CONTRIBUINTE', 'NUMERO DO CONDOMINIO']]"
   ]
  },
  {
   "cell_type": "code",
   "execution_count": 5,
   "metadata": {},
   "outputs": [
    {
     "data": {
      "text/html": [
       "<pre>✔️ 2.21 s (2021-02-19T17:18:56/2021-02-19T17:18:59)</pre>"
      ],
      "text/plain": [
       "<IPython.core.display.HTML object>"
      ]
     },
     "metadata": {},
     "output_type": "display_data"
    }
   ],
   "source": [
    "# Os 3 primeiros dígitos do 'NUMERO DO CONTRIBUINTE' representam o Setor\n",
    "# os 3 próximos, a Quadra\n",
    "# e os 4 seguintes, o Lote\n",
    "\n",
    "df_iptu['setor'] = df_iptu['NUMERO DO CONTRIBUINTE'].str[0:3]\n",
    "df_iptu['quadra'] = df_iptu['NUMERO DO CONTRIBUINTE'].str[3:6]\n",
    "df_iptu['lote'] = df_iptu['NUMERO DO CONTRIBUINTE'].str[6:10]"
   ]
  },
  {
   "cell_type": "code",
   "execution_count": 6,
   "metadata": {},
   "outputs": [
    {
     "data": {
      "text/html": [
       "<pre>✔️ 1.49 s (2021-02-19T17:18:59/2021-02-19T17:19:00)</pre>"
      ],
      "text/plain": [
       "<IPython.core.display.HTML object>"
      ]
     },
     "metadata": {},
     "output_type": "display_data"
    },
    {
     "data": {
      "text/html": [
       "<div>\n",
       "<style scoped>\n",
       "    .dataframe tbody tr th:only-of-type {\n",
       "        vertical-align: middle;\n",
       "    }\n",
       "\n",
       "    .dataframe tbody tr th {\n",
       "        vertical-align: top;\n",
       "    }\n",
       "\n",
       "    .dataframe thead th {\n",
       "        text-align: right;\n",
       "    }\n",
       "</style>\n",
       "<table border=\"1\" class=\"dataframe\">\n",
       "  <thead>\n",
       "    <tr style=\"text-align: right;\">\n",
       "      <th></th>\n",
       "      <th>NUMERO DO CONTRIBUINTE</th>\n",
       "      <th>setor</th>\n",
       "      <th>quadra</th>\n",
       "      <th>lote</th>\n",
       "    </tr>\n",
       "  </thead>\n",
       "  <tbody>\n",
       "    <tr>\n",
       "      <th>0</th>\n",
       "      <td>0010030001-4</td>\n",
       "      <td>001</td>\n",
       "      <td>003</td>\n",
       "      <td>0001</td>\n",
       "    </tr>\n",
       "    <tr>\n",
       "      <th>1</th>\n",
       "      <td>0010030002-2</td>\n",
       "      <td>001</td>\n",
       "      <td>003</td>\n",
       "      <td>0002</td>\n",
       "    </tr>\n",
       "    <tr>\n",
       "      <th>2</th>\n",
       "      <td>0010030003-0</td>\n",
       "      <td>001</td>\n",
       "      <td>003</td>\n",
       "      <td>0003</td>\n",
       "    </tr>\n",
       "    <tr>\n",
       "      <th>3</th>\n",
       "      <td>0010030004-9</td>\n",
       "      <td>001</td>\n",
       "      <td>003</td>\n",
       "      <td>0004</td>\n",
       "    </tr>\n",
       "    <tr>\n",
       "      <th>4</th>\n",
       "      <td>0010030005-7</td>\n",
       "      <td>001</td>\n",
       "      <td>003</td>\n",
       "      <td>0005</td>\n",
       "    </tr>\n",
       "    <tr>\n",
       "      <th>...</th>\n",
       "      <td>...</td>\n",
       "      <td>...</td>\n",
       "      <td>...</td>\n",
       "      <td>...</td>\n",
       "    </tr>\n",
       "    <tr>\n",
       "      <th>3498639</th>\n",
       "      <td>3101180238-1</td>\n",
       "      <td>310</td>\n",
       "      <td>118</td>\n",
       "      <td>0238</td>\n",
       "    </tr>\n",
       "    <tr>\n",
       "      <th>3498640</th>\n",
       "      <td>3101180239-1</td>\n",
       "      <td>310</td>\n",
       "      <td>118</td>\n",
       "      <td>0239</td>\n",
       "    </tr>\n",
       "    <tr>\n",
       "      <th>3498641</th>\n",
       "      <td>3101180240-3</td>\n",
       "      <td>310</td>\n",
       "      <td>118</td>\n",
       "      <td>0240</td>\n",
       "    </tr>\n",
       "    <tr>\n",
       "      <th>3498642</th>\n",
       "      <td>3101190001-4</td>\n",
       "      <td>310</td>\n",
       "      <td>119</td>\n",
       "      <td>0001</td>\n",
       "    </tr>\n",
       "    <tr>\n",
       "      <th>3498643</th>\n",
       "      <td>3101200001-7</td>\n",
       "      <td>310</td>\n",
       "      <td>120</td>\n",
       "      <td>0001</td>\n",
       "    </tr>\n",
       "  </tbody>\n",
       "</table>\n",
       "<p>3498644 rows × 4 columns</p>\n",
       "</div>"
      ],
      "text/plain": [
       "        NUMERO DO CONTRIBUINTE setor quadra  lote\n",
       "0                 0010030001-4   001    003  0001\n",
       "1                 0010030002-2   001    003  0002\n",
       "2                 0010030003-0   001    003  0003\n",
       "3                 0010030004-9   001    003  0004\n",
       "4                 0010030005-7   001    003  0005\n",
       "...                        ...   ...    ...   ...\n",
       "3498639           3101180238-1   310    118  0238\n",
       "3498640           3101180239-1   310    118  0239\n",
       "3498641           3101180240-3   310    118  0240\n",
       "3498642           3101190001-4   310    119  0001\n",
       "3498643           3101200001-7   310    120  0001\n",
       "\n",
       "[3498644 rows x 4 columns]"
      ]
     },
     "execution_count": 6,
     "metadata": {},
     "output_type": "execute_result"
    }
   ],
   "source": [
    "df_iptu[['NUMERO DO CONTRIBUINTE', 'setor', 'quadra', 'lote']]"
   ]
  },
  {
   "cell_type": "code",
   "execution_count": 7,
   "metadata": {},
   "outputs": [
    {
     "data": {
      "text/html": [
       "<pre>✔️ 848 ms (2021-02-19T17:19:00/2021-02-19T17:19:01)</pre>"
      ],
      "text/plain": [
       "<IPython.core.display.HTML object>"
      ]
     },
     "metadata": {},
     "output_type": "display_data"
    }
   ],
   "source": [
    "# e o NUMERO DO CONDOMINIO\n",
    "\n",
    "df_iptu['condominio'] = df_iptu['NUMERO DO CONDOMINIO'].str[0:2]"
   ]
  },
  {
   "cell_type": "code",
   "execution_count": 8,
   "metadata": {},
   "outputs": [
    {
     "data": {
      "text/html": [
       "<pre>✔️ 4.15 ms (2021-02-19T17:19:01/2021-02-19T17:19:01)</pre>"
      ],
      "text/plain": [
       "<IPython.core.display.HTML object>"
      ]
     },
     "metadata": {},
     "output_type": "display_data"
    },
    {
     "data": {
      "text/plain": [
       "0          00\n",
       "1          00\n",
       "2          00\n",
       "3          00\n",
       "4          00\n",
       "           ..\n",
       "3498639    01\n",
       "3498640    01\n",
       "3498641    01\n",
       "3498642    00\n",
       "3498643    00\n",
       "Name: condominio, Length: 3498644, dtype: object"
      ]
     },
     "execution_count": 8,
     "metadata": {},
     "output_type": "execute_result"
    }
   ],
   "source": [
    "df_iptu['condominio']"
   ]
  },
  {
   "cell_type": "code",
   "execution_count": 9,
   "metadata": {},
   "outputs": [
    {
     "data": {
      "text/html": [
       "<pre>✔️ 387 µs (2021-02-19T17:19:01/2021-02-19T17:19:01)</pre>"
      ],
      "text/plain": [
       "<IPython.core.display.HTML object>"
      ]
     },
     "metadata": {},
     "output_type": "display_data"
    }
   ],
   "source": [
    "# Agora podemos gerar uma 'chave estrangeira' para linkar o arquivo de lootes\n",
    "# Mas antes vamos ver o arquivos de lotes"
   ]
  },
  {
   "cell_type": "markdown",
   "metadata": {},
   "source": [
    "## Carregando informações de lotes"
   ]
  },
  {
   "cell_type": "code",
   "execution_count": 10,
   "metadata": {},
   "outputs": [
    {
     "data": {
      "text/html": [
       "<pre>✔️ 717 ms (2021-02-19T17:19:02/2021-02-19T17:19:02)</pre>"
      ],
      "text/plain": [
       "<IPython.core.display.HTML object>"
      ]
     },
     "metadata": {},
     "output_type": "display_data"
    }
   ],
   "source": [
    "# Importando a biblioteca GeoPandas\n",
    "# Bem documentada https://geopandas.org/\n",
    "\n",
    "import geopandas as gpd"
   ]
  },
  {
   "cell_type": "markdown",
   "metadata": {},
   "source": [
    "### Arquivos de lote\n",
    "\n",
    "* Lembrando que temos 96 arquivos de lotes, um para cada distrito\n",
    "* https://github.com/geoinfo-smdu/downloads-multiplos"
   ]
  },
  {
   "cell_type": "code",
   "execution_count": 11,
   "metadata": {},
   "outputs": [
    {
     "data": {
      "text/html": [
       "<pre>✔️ 608 ms (2021-02-19T17:19:02/2021-02-19T17:19:03)</pre>"
      ],
      "text/plain": [
       "<IPython.core.display.HTML object>"
      ]
     },
     "metadata": {},
     "output_type": "display_data"
    }
   ],
   "source": [
    "# Carregando arquivo de lotes da Vila Mariana\n",
    "\n",
    "gdf_vila_mariana = gpd.GeoDataFrame.from_file(f'zip://GIS/SIRGAS_SHP_LOTES_90_VILA_MARIANA.zip!SIRGAS_SHP_LOTES_90_VILA_MARIANA')"
   ]
  },
  {
   "cell_type": "code",
   "execution_count": 12,
   "metadata": {},
   "outputs": [
    {
     "data": {
      "text/html": [
       "<pre>✔️ 13.6 ms (2021-02-19T17:19:03/2021-02-19T17:19:03)</pre>"
      ],
      "text/plain": [
       "<IPython.core.display.HTML object>"
      ]
     },
     "metadata": {},
     "output_type": "display_data"
    },
    {
     "data": {
      "text/html": [
       "<div>\n",
       "<style scoped>\n",
       "    .dataframe tbody tr th:only-of-type {\n",
       "        vertical-align: middle;\n",
       "    }\n",
       "\n",
       "    .dataframe tbody tr th {\n",
       "        vertical-align: top;\n",
       "    }\n",
       "\n",
       "    .dataframe thead th {\n",
       "        text-align: right;\n",
       "    }\n",
       "</style>\n",
       "<table border=\"1\" class=\"dataframe\">\n",
       "  <thead>\n",
       "    <tr style=\"text-align: right;\">\n",
       "      <th></th>\n",
       "      <th>lo_setor</th>\n",
       "      <th>lo_quadra</th>\n",
       "      <th>lo_lote</th>\n",
       "      <th>lo_condomi</th>\n",
       "      <th>lo_tp_quad</th>\n",
       "      <th>lo_tp_lote</th>\n",
       "      <th>geometry</th>\n",
       "    </tr>\n",
       "  </thead>\n",
       "  <tbody>\n",
       "    <tr>\n",
       "      <th>0</th>\n",
       "      <td>042</td>\n",
       "      <td>001</td>\n",
       "      <td>0049</td>\n",
       "      <td>00</td>\n",
       "      <td>F</td>\n",
       "      <td>F</td>\n",
       "      <td>POLYGON ((331799.549 7389851.909, 331817.199 7...</td>\n",
       "    </tr>\n",
       "    <tr>\n",
       "      <th>1</th>\n",
       "      <td>042</td>\n",
       "      <td>001</td>\n",
       "      <td>0034</td>\n",
       "      <td>00</td>\n",
       "      <td>F</td>\n",
       "      <td>F</td>\n",
       "      <td>POLYGON ((331799.549 7389851.909, 331794.315 7...</td>\n",
       "    </tr>\n",
       "    <tr>\n",
       "      <th>2</th>\n",
       "      <td>037</td>\n",
       "      <td>039</td>\n",
       "      <td>0018</td>\n",
       "      <td>00</td>\n",
       "      <td>F</td>\n",
       "      <td>F</td>\n",
       "      <td>POLYGON ((332464.828 7390520.715, 332479.996 7...</td>\n",
       "    </tr>\n",
       "    <tr>\n",
       "      <th>3</th>\n",
       "      <td>036</td>\n",
       "      <td>014</td>\n",
       "      <td>0000</td>\n",
       "      <td>06</td>\n",
       "      <td>F</td>\n",
       "      <td>F</td>\n",
       "      <td>POLYGON ((331917.648 7392203.523, 331918.149 7...</td>\n",
       "    </tr>\n",
       "    <tr>\n",
       "      <th>4</th>\n",
       "      <td>037</td>\n",
       "      <td>023</td>\n",
       "      <td>0061</td>\n",
       "      <td>00</td>\n",
       "      <td>F</td>\n",
       "      <td>F</td>\n",
       "      <td>POLYGON ((331987.200 7390632.971, 331984.752 7...</td>\n",
       "    </tr>\n",
       "    <tr>\n",
       "      <th>...</th>\n",
       "      <td>...</td>\n",
       "      <td>...</td>\n",
       "      <td>...</td>\n",
       "      <td>...</td>\n",
       "      <td>...</td>\n",
       "      <td>...</td>\n",
       "      <td>...</td>\n",
       "    </tr>\n",
       "    <tr>\n",
       "      <th>16438</th>\n",
       "      <td>037</td>\n",
       "      <td>029</td>\n",
       "      <td>0038</td>\n",
       "      <td>00</td>\n",
       "      <td>F</td>\n",
       "      <td>F</td>\n",
       "      <td>POLYGON ((331827.216 7390384.552, 331832.766 7...</td>\n",
       "    </tr>\n",
       "    <tr>\n",
       "      <th>16439</th>\n",
       "      <td>042</td>\n",
       "      <td>102</td>\n",
       "      <td>0007</td>\n",
       "      <td>00</td>\n",
       "      <td>F</td>\n",
       "      <td>F</td>\n",
       "      <td>POLYGON ((332745.120 7389205.859, 332724.230 7...</td>\n",
       "    </tr>\n",
       "    <tr>\n",
       "      <th>16440</th>\n",
       "      <td>039</td>\n",
       "      <td>037</td>\n",
       "      <td>0033</td>\n",
       "      <td>00</td>\n",
       "      <td>F</td>\n",
       "      <td>F</td>\n",
       "      <td>POLYGON ((334674.723 7390803.048, 334674.735 7...</td>\n",
       "    </tr>\n",
       "    <tr>\n",
       "      <th>16441</th>\n",
       "      <td>039</td>\n",
       "      <td>147</td>\n",
       "      <td>0033</td>\n",
       "      <td>00</td>\n",
       "      <td>F</td>\n",
       "      <td>F</td>\n",
       "      <td>POLYGON ((334282.132 7390625.543, 334282.229 7...</td>\n",
       "    </tr>\n",
       "    <tr>\n",
       "      <th>16442</th>\n",
       "      <td>038</td>\n",
       "      <td>099</td>\n",
       "      <td>0061</td>\n",
       "      <td>00</td>\n",
       "      <td>F</td>\n",
       "      <td>F</td>\n",
       "      <td>POLYGON ((333393.151 7390835.441, 333395.816 7...</td>\n",
       "    </tr>\n",
       "  </tbody>\n",
       "</table>\n",
       "<p>16443 rows × 7 columns</p>\n",
       "</div>"
      ],
      "text/plain": [
       "      lo_setor lo_quadra lo_lote lo_condomi lo_tp_quad lo_tp_lote  \\\n",
       "0          042       001    0049         00          F          F   \n",
       "1          042       001    0034         00          F          F   \n",
       "2          037       039    0018         00          F          F   \n",
       "3          036       014    0000         06          F          F   \n",
       "4          037       023    0061         00          F          F   \n",
       "...        ...       ...     ...        ...        ...        ...   \n",
       "16438      037       029    0038         00          F          F   \n",
       "16439      042       102    0007         00          F          F   \n",
       "16440      039       037    0033         00          F          F   \n",
       "16441      039       147    0033         00          F          F   \n",
       "16442      038       099    0061         00          F          F   \n",
       "\n",
       "                                                geometry  \n",
       "0      POLYGON ((331799.549 7389851.909, 331817.199 7...  \n",
       "1      POLYGON ((331799.549 7389851.909, 331794.315 7...  \n",
       "2      POLYGON ((332464.828 7390520.715, 332479.996 7...  \n",
       "3      POLYGON ((331917.648 7392203.523, 331918.149 7...  \n",
       "4      POLYGON ((331987.200 7390632.971, 331984.752 7...  \n",
       "...                                                  ...  \n",
       "16438  POLYGON ((331827.216 7390384.552, 331832.766 7...  \n",
       "16439  POLYGON ((332745.120 7389205.859, 332724.230 7...  \n",
       "16440  POLYGON ((334674.723 7390803.048, 334674.735 7...  \n",
       "16441  POLYGON ((334282.132 7390625.543, 334282.229 7...  \n",
       "16442  POLYGON ((333393.151 7390835.441, 333395.816 7...  \n",
       "\n",
       "[16443 rows x 7 columns]"
      ]
     },
     "execution_count": 12,
     "metadata": {},
     "output_type": "execute_result"
    }
   ],
   "source": [
    "gdf_vila_mariana"
   ]
  },
  {
   "cell_type": "code",
   "execution_count": 13,
   "metadata": {},
   "outputs": [
    {
     "data": {
      "text/html": [
       "<pre>✔️ 3.15 s (2021-02-19T17:19:03/2021-02-19T17:19:06)</pre>"
      ],
      "text/plain": [
       "<IPython.core.display.HTML object>"
      ]
     },
     "metadata": {},
     "output_type": "display_data"
    },
    {
     "data": {
      "text/plain": [
       "<AxesSubplot:>"
      ]
     },
     "execution_count": 13,
     "metadata": {},
     "output_type": "execute_result"
    },
    {
     "data": {
      "image/png": "[encoded data removed]",
      "text/plain": [
       "<Figure size 432x288 with 1 Axes>"
      ]
     },
     "metadata": {
      "needs_background": "light"
     },
     "output_type": "display_data"
    }
   ],
   "source": [
    "gdf_vila_mariana.plot()"
   ]
  },
  {
   "cell_type": "code",
   "execution_count": 14,
   "metadata": {},
   "outputs": [
    {
     "data": {
      "text/html": [
       "<pre>✔️ 120 ms (2021-02-19T17:19:06/2021-02-19T17:19:06)</pre>"
      ],
      "text/plain": [
       "<IPython.core.display.HTML object>"
      ]
     },
     "metadata": {},
     "output_type": "display_data"
    }
   ],
   "source": [
    "# Ainda é possível gerar um ponto dentro de cada lote para reduzir o tamanho\n",
    "# Na verdade um ponto representativo que é um centroide 'melhorado'\n",
    "\n",
    "gdf_vila_mariana.geometry = gdf_vila_mariana.representative_point()"
   ]
  },
  {
   "cell_type": "code",
   "execution_count": 15,
   "metadata": {},
   "outputs": [
    {
     "data": {
      "text/html": [
       "<pre>✔️ 14.3 ms (2021-02-19T17:19:06/2021-02-19T17:19:07)</pre>"
      ],
      "text/plain": [
       "<IPython.core.display.HTML object>"
      ]
     },
     "metadata": {},
     "output_type": "display_data"
    },
    {
     "data": {
      "text/html": [
       "<div>\n",
       "<style scoped>\n",
       "    .dataframe tbody tr th:only-of-type {\n",
       "        vertical-align: middle;\n",
       "    }\n",
       "\n",
       "    .dataframe tbody tr th {\n",
       "        vertical-align: top;\n",
       "    }\n",
       "\n",
       "    .dataframe thead th {\n",
       "        text-align: right;\n",
       "    }\n",
       "</style>\n",
       "<table border=\"1\" class=\"dataframe\">\n",
       "  <thead>\n",
       "    <tr style=\"text-align: right;\">\n",
       "      <th></th>\n",
       "      <th>lo_setor</th>\n",
       "      <th>lo_quadra</th>\n",
       "      <th>lo_lote</th>\n",
       "      <th>lo_condomi</th>\n",
       "      <th>lo_tp_quad</th>\n",
       "      <th>lo_tp_lote</th>\n",
       "      <th>geometry</th>\n",
       "    </tr>\n",
       "  </thead>\n",
       "  <tbody>\n",
       "    <tr>\n",
       "      <th>0</th>\n",
       "      <td>042</td>\n",
       "      <td>001</td>\n",
       "      <td>0049</td>\n",
       "      <td>00</td>\n",
       "      <td>F</td>\n",
       "      <td>F</td>\n",
       "      <td>POINT (331813.733 7389827.938)</td>\n",
       "    </tr>\n",
       "    <tr>\n",
       "      <th>1</th>\n",
       "      <td>042</td>\n",
       "      <td>001</td>\n",
       "      <td>0034</td>\n",
       "      <td>00</td>\n",
       "      <td>F</td>\n",
       "      <td>F</td>\n",
       "      <td>POINT (331785.460 7389833.154)</td>\n",
       "    </tr>\n",
       "    <tr>\n",
       "      <th>2</th>\n",
       "      <td>037</td>\n",
       "      <td>039</td>\n",
       "      <td>0018</td>\n",
       "      <td>00</td>\n",
       "      <td>F</td>\n",
       "      <td>F</td>\n",
       "      <td>POINT (332468.512 7390508.334)</td>\n",
       "    </tr>\n",
       "    <tr>\n",
       "      <th>3</th>\n",
       "      <td>036</td>\n",
       "      <td>014</td>\n",
       "      <td>0000</td>\n",
       "      <td>06</td>\n",
       "      <td>F</td>\n",
       "      <td>F</td>\n",
       "      <td>POINT (331942.665 7392201.611)</td>\n",
       "    </tr>\n",
       "    <tr>\n",
       "      <th>4</th>\n",
       "      <td>037</td>\n",
       "      <td>023</td>\n",
       "      <td>0061</td>\n",
       "      <td>00</td>\n",
       "      <td>F</td>\n",
       "      <td>F</td>\n",
       "      <td>POINT (331985.675 7390650.359)</td>\n",
       "    </tr>\n",
       "    <tr>\n",
       "      <th>...</th>\n",
       "      <td>...</td>\n",
       "      <td>...</td>\n",
       "      <td>...</td>\n",
       "      <td>...</td>\n",
       "      <td>...</td>\n",
       "      <td>...</td>\n",
       "      <td>...</td>\n",
       "    </tr>\n",
       "    <tr>\n",
       "      <th>16438</th>\n",
       "      <td>037</td>\n",
       "      <td>029</td>\n",
       "      <td>0038</td>\n",
       "      <td>00</td>\n",
       "      <td>F</td>\n",
       "      <td>F</td>\n",
       "      <td>POINT (331842.999 7390387.991)</td>\n",
       "    </tr>\n",
       "    <tr>\n",
       "      <th>16439</th>\n",
       "      <td>042</td>\n",
       "      <td>102</td>\n",
       "      <td>0007</td>\n",
       "      <td>00</td>\n",
       "      <td>F</td>\n",
       "      <td>F</td>\n",
       "      <td>POINT (332729.811 7389211.443)</td>\n",
       "    </tr>\n",
       "    <tr>\n",
       "      <th>16440</th>\n",
       "      <td>039</td>\n",
       "      <td>037</td>\n",
       "      <td>0033</td>\n",
       "      <td>00</td>\n",
       "      <td>F</td>\n",
       "      <td>F</td>\n",
       "      <td>POINT (334677.238 7390819.127)</td>\n",
       "    </tr>\n",
       "    <tr>\n",
       "      <th>16441</th>\n",
       "      <td>039</td>\n",
       "      <td>147</td>\n",
       "      <td>0033</td>\n",
       "      <td>00</td>\n",
       "      <td>F</td>\n",
       "      <td>F</td>\n",
       "      <td>POINT (334277.432 7390613.466)</td>\n",
       "    </tr>\n",
       "    <tr>\n",
       "      <th>16442</th>\n",
       "      <td>038</td>\n",
       "      <td>099</td>\n",
       "      <td>0061</td>\n",
       "      <td>00</td>\n",
       "      <td>F</td>\n",
       "      <td>F</td>\n",
       "      <td>POINT (333399.083 7390823.390)</td>\n",
       "    </tr>\n",
       "  </tbody>\n",
       "</table>\n",
       "<p>16443 rows × 7 columns</p>\n",
       "</div>"
      ],
      "text/plain": [
       "      lo_setor lo_quadra lo_lote lo_condomi lo_tp_quad lo_tp_lote  \\\n",
       "0          042       001    0049         00          F          F   \n",
       "1          042       001    0034         00          F          F   \n",
       "2          037       039    0018         00          F          F   \n",
       "3          036       014    0000         06          F          F   \n",
       "4          037       023    0061         00          F          F   \n",
       "...        ...       ...     ...        ...        ...        ...   \n",
       "16438      037       029    0038         00          F          F   \n",
       "16439      042       102    0007         00          F          F   \n",
       "16440      039       037    0033         00          F          F   \n",
       "16441      039       147    0033         00          F          F   \n",
       "16442      038       099    0061         00          F          F   \n",
       "\n",
       "                             geometry  \n",
       "0      POINT (331813.733 7389827.938)  \n",
       "1      POINT (331785.460 7389833.154)  \n",
       "2      POINT (332468.512 7390508.334)  \n",
       "3      POINT (331942.665 7392201.611)  \n",
       "4      POINT (331985.675 7390650.359)  \n",
       "...                               ...  \n",
       "16438  POINT (331842.999 7390387.991)  \n",
       "16439  POINT (332729.811 7389211.443)  \n",
       "16440  POINT (334677.238 7390819.127)  \n",
       "16441  POINT (334277.432 7390613.466)  \n",
       "16442  POINT (333399.083 7390823.390)  \n",
       "\n",
       "[16443 rows x 7 columns]"
      ]
     },
     "execution_count": 15,
     "metadata": {},
     "output_type": "execute_result"
    }
   ],
   "source": [
    "gdf_vila_mariana"
   ]
  },
  {
   "cell_type": "markdown",
   "metadata": {},
   "source": [
    "## Agora precisamos \"juntar\" os conjuntos de dados\n",
    "\n",
    "* alguns nomes são utilizados: join, union, merge, concat, relacionar ...\n",
    "* precisamos de uma chave que seja coincidente nos dois conjuntos de dados"
   ]
  },
  {
   "cell_type": "code",
   "execution_count": 16,
   "metadata": {},
   "outputs": [
    {
     "data": {
      "text/html": [
       "<pre>✔️ 366 ms (2021-02-19T17:19:07/2021-02-19T17:19:07)</pre>"
      ],
      "text/plain": [
       "<IPython.core.display.HTML object>"
      ]
     },
     "metadata": {},
     "output_type": "display_data"
    }
   ],
   "source": [
    "# SQL&C é o ideal, no entanto, no caso de condomínios que o lote se sempre '0000'\n",
    "\n",
    "df_iptu.loc[df_iptu['condominio'] != '00', 'lote'] = '0000'"
   ]
  },
  {
   "cell_type": "code",
   "execution_count": 17,
   "metadata": {},
   "outputs": [
    {
     "data": {
      "text/html": [
       "<pre>✔️ 17.3 ms (2021-02-19T17:19:07/2021-02-19T17:19:07)</pre>"
      ],
      "text/plain": [
       "<IPython.core.display.HTML object>"
      ]
     },
     "metadata": {},
     "output_type": "display_data"
    },
    {
     "data": {
      "text/html": [
       "<div>\n",
       "<style scoped>\n",
       "    .dataframe tbody tr th:only-of-type {\n",
       "        vertical-align: middle;\n",
       "    }\n",
       "\n",
       "    .dataframe tbody tr th {\n",
       "        vertical-align: top;\n",
       "    }\n",
       "\n",
       "    .dataframe thead th {\n",
       "        text-align: right;\n",
       "    }\n",
       "</style>\n",
       "<table border=\"1\" class=\"dataframe\">\n",
       "  <thead>\n",
       "    <tr style=\"text-align: right;\">\n",
       "      <th></th>\n",
       "      <th>lo_setor</th>\n",
       "      <th>lo_quadra</th>\n",
       "      <th>lo_lote</th>\n",
       "      <th>lo_condomi</th>\n",
       "      <th>lo_tp_quad</th>\n",
       "      <th>lo_tp_lote</th>\n",
       "      <th>geometry</th>\n",
       "    </tr>\n",
       "  </thead>\n",
       "  <tbody>\n",
       "    <tr>\n",
       "      <th>3</th>\n",
       "      <td>036</td>\n",
       "      <td>014</td>\n",
       "      <td>0000</td>\n",
       "      <td>06</td>\n",
       "      <td>F</td>\n",
       "      <td>F</td>\n",
       "      <td>POINT (331942.665 7392201.611)</td>\n",
       "    </tr>\n",
       "    <tr>\n",
       "      <th>9</th>\n",
       "      <td>042</td>\n",
       "      <td>012</td>\n",
       "      <td>0000</td>\n",
       "      <td>10</td>\n",
       "      <td>F</td>\n",
       "      <td>F</td>\n",
       "      <td>POINT (333451.625 7390073.440)</td>\n",
       "    </tr>\n",
       "    <tr>\n",
       "      <th>12</th>\n",
       "      <td>042</td>\n",
       "      <td>012</td>\n",
       "      <td>0000</td>\n",
       "      <td>02</td>\n",
       "      <td>F</td>\n",
       "      <td>F</td>\n",
       "      <td>POINT (333219.951 7390056.095)</td>\n",
       "    </tr>\n",
       "    <tr>\n",
       "      <th>67</th>\n",
       "      <td>037</td>\n",
       "      <td>037</td>\n",
       "      <td>0000</td>\n",
       "      <td>04</td>\n",
       "      <td>F</td>\n",
       "      <td>F</td>\n",
       "      <td>POINT (332002.018 7390345.368)</td>\n",
       "    </tr>\n",
       "    <tr>\n",
       "      <th>70</th>\n",
       "      <td>042</td>\n",
       "      <td>016</td>\n",
       "      <td>0000</td>\n",
       "      <td>01</td>\n",
       "      <td>F</td>\n",
       "      <td>F</td>\n",
       "      <td>POINT (331774.187 7389711.807)</td>\n",
       "    </tr>\n",
       "    <tr>\n",
       "      <th>...</th>\n",
       "      <td>...</td>\n",
       "      <td>...</td>\n",
       "      <td>...</td>\n",
       "      <td>...</td>\n",
       "      <td>...</td>\n",
       "      <td>...</td>\n",
       "      <td>...</td>\n",
       "    </tr>\n",
       "    <tr>\n",
       "      <th>16400</th>\n",
       "      <td>042</td>\n",
       "      <td>168</td>\n",
       "      <td>0000</td>\n",
       "      <td>04</td>\n",
       "      <td>F</td>\n",
       "      <td>F</td>\n",
       "      <td>POINT (334178.542 7389447.559)</td>\n",
       "    </tr>\n",
       "    <tr>\n",
       "      <th>16401</th>\n",
       "      <td>042</td>\n",
       "      <td>168</td>\n",
       "      <td>0000</td>\n",
       "      <td>07</td>\n",
       "      <td>F</td>\n",
       "      <td>F</td>\n",
       "      <td>POINT (334152.417 7389454.787)</td>\n",
       "    </tr>\n",
       "    <tr>\n",
       "      <th>16414</th>\n",
       "      <td>036</td>\n",
       "      <td>019</td>\n",
       "      <td>0000</td>\n",
       "      <td>16</td>\n",
       "      <td>F</td>\n",
       "      <td>F</td>\n",
       "      <td>POINT (332050.956 7392065.788)</td>\n",
       "    </tr>\n",
       "    <tr>\n",
       "      <th>16419</th>\n",
       "      <td>037</td>\n",
       "      <td>035</td>\n",
       "      <td>0000</td>\n",
       "      <td>02</td>\n",
       "      <td>F</td>\n",
       "      <td>F</td>\n",
       "      <td>POINT (332623.229 7391010.228)</td>\n",
       "    </tr>\n",
       "    <tr>\n",
       "      <th>16436</th>\n",
       "      <td>036</td>\n",
       "      <td>001</td>\n",
       "      <td>0000</td>\n",
       "      <td>03</td>\n",
       "      <td>F</td>\n",
       "      <td>F</td>\n",
       "      <td>POINT (331650.218 7392560.915)</td>\n",
       "    </tr>\n",
       "  </tbody>\n",
       "</table>\n",
       "<p>1580 rows × 7 columns</p>\n",
       "</div>"
      ],
      "text/plain": [
       "      lo_setor lo_quadra lo_lote lo_condomi lo_tp_quad lo_tp_lote  \\\n",
       "3          036       014    0000         06          F          F   \n",
       "9          042       012    0000         10          F          F   \n",
       "12         042       012    0000         02          F          F   \n",
       "67         037       037    0000         04          F          F   \n",
       "70         042       016    0000         01          F          F   \n",
       "...        ...       ...     ...        ...        ...        ...   \n",
       "16400      042       168    0000         04          F          F   \n",
       "16401      042       168    0000         07          F          F   \n",
       "16414      036       019    0000         16          F          F   \n",
       "16419      037       035    0000         02          F          F   \n",
       "16436      036       001    0000         03          F          F   \n",
       "\n",
       "                             geometry  \n",
       "3      POINT (331942.665 7392201.611)  \n",
       "9      POINT (333451.625 7390073.440)  \n",
       "12     POINT (333219.951 7390056.095)  \n",
       "67     POINT (332002.018 7390345.368)  \n",
       "70     POINT (331774.187 7389711.807)  \n",
       "...                               ...  \n",
       "16400  POINT (334178.542 7389447.559)  \n",
       "16401  POINT (334152.417 7389454.787)  \n",
       "16414  POINT (332050.956 7392065.788)  \n",
       "16419  POINT (332623.229 7391010.228)  \n",
       "16436  POINT (331650.218 7392560.915)  \n",
       "\n",
       "[1580 rows x 7 columns]"
      ]
     },
     "execution_count": 17,
     "metadata": {},
     "output_type": "execute_result"
    }
   ],
   "source": [
    "# Pois a mesma lógica existe para os lotes\n",
    "\n",
    "gdf_vila_mariana.loc[gdf_vila_mariana.lo_condomi != '00']"
   ]
  },
  {
   "cell_type": "code",
   "execution_count": 18,
   "metadata": {},
   "outputs": [
    {
     "data": {
      "text/html": [
       "<pre>✔️ 18.8 ms (2021-02-19T17:19:07/2021-02-19T17:19:07)</pre>"
      ],
      "text/plain": [
       "<IPython.core.display.HTML object>"
      ]
     },
     "metadata": {},
     "output_type": "display_data"
    }
   ],
   "source": [
    "# Então agora é necessário criar uma chave para os lotes\n",
    "\n",
    "gdf_vila_mariana['sqlc'] = \\\n",
    "gdf_vila_mariana['lo_setor'] + \\\n",
    "gdf_vila_mariana['lo_quadra'] + \\\n",
    "gdf_vila_mariana['lo_lote'] + \\\n",
    "gdf_vila_mariana['lo_condomi']"
   ]
  },
  {
   "cell_type": "code",
   "execution_count": 19,
   "metadata": {},
   "outputs": [
    {
     "data": {
      "text/html": [
       "<pre>✔️ 736 ms (2021-02-19T17:19:07/2021-02-19T17:19:08)</pre>"
      ],
      "text/plain": [
       "<IPython.core.display.HTML object>"
      ]
     },
     "metadata": {},
     "output_type": "display_data"
    }
   ],
   "source": [
    "# E para o IPTU também\n",
    "\n",
    "df_iptu['sqlc'] = \\\n",
    "df_iptu['setor'] + \\\n",
    "df_iptu['quadra'] + \\\n",
    "df_iptu['lote'] + \\\n",
    "df_iptu['condominio']"
   ]
  },
  {
   "cell_type": "code",
   "execution_count": 21,
   "metadata": {},
   "outputs": [
    {
     "data": {
      "text/html": [
       "<pre>✔️ 4.23 s (2021-02-19T17:19:43/2021-02-19T17:19:48)</pre>"
      ],
      "text/plain": [
       "<IPython.core.display.HTML object>"
      ]
     },
     "metadata": {},
     "output_type": "display_data"
    }
   ],
   "source": [
    "gdf_iptu_vila_mariana = gdf_vila_mariana[['sqlc', 'geometry']].merge(df_iptu, on='sqlc', how='left')"
   ]
  },
  {
   "cell_type": "code",
   "execution_count": 22,
   "metadata": {},
   "outputs": [
    {
     "data": {
      "text/html": [
       "<pre>✔️ 45.8 s (2021-02-19T17:20:57/2021-02-19T17:21:43)</pre>"
      ],
      "text/plain": [
       "<IPython.core.display.HTML object>"
      ]
     },
     "metadata": {},
     "output_type": "display_data"
    }
   ],
   "source": [
    "# Agora podemos salvar o arquivo\n",
    "\n",
    "gdf_iptu_vila_mariana.to_file('resultados/iptu_vila_mariana.gpkg', driver='GPKG')"
   ]
  },
  {
   "cell_type": "markdown",
   "metadata": {},
   "source": [
    "### ... e fazer análises"
   ]
  },
  {
   "cell_type": "markdown",
   "metadata": {},
   "source": [
    "## A espacialização dos atendimentos do SP156"
   ]
  },
  {
   "cell_type": "code",
   "execution_count": null,
   "metadata": {},
   "outputs": [],
   "source": []
  },
  {
   "cell_type": "code",
   "execution_count": null,
   "metadata": {},
   "outputs": [],
   "source": []
  },
  {
   "cell_type": "markdown",
   "metadata": {},
   "source": [
    "## Pensando indicadores do ObservaSampa pela lógica espacial"
   ]
  },
  {
   "cell_type": "code",
   "execution_count": null,
   "metadata": {},
   "outputs": [],
   "source": []
  },
  {
   "cell_type": "code",
   "execution_count": null,
   "metadata": {},
   "outputs": [],
   "source": []
  }
 ],
 "metadata": {
  "kernelspec": {
   "display_name": "Python 3",
   "language": "python",
   "name": "python3"
  },
  "language_info": {
   "codemirror_mode": {
    "name": "ipython",
    "version": 3
   },
   "file_extension": ".py",
   "mimetype": "text/x-python",
   "name": "python",
   "nbconvert_exporter": "python",
   "pygments_lexer": "ipython3",
   "version": "3.8.2"
  }
 },
 "nbformat": 4,
 "nbformat_minor": 4
}
