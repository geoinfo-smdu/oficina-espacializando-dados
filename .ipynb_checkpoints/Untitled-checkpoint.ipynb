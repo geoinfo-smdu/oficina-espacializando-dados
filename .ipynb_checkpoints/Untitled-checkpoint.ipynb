{
 "cells": [
  {
   "cell_type": "code",
   "execution_count": 4,
   "metadata": {},
   "outputs": [],
   "source": [
    "import pandas as pd"
   ]
  },
  {
   "cell_type": "code",
   "execution_count": 10,
   "metadata": {},
   "outputs": [],
   "source": [
    "df_iptu = pd.read_csv('/home/fernando/Downloads/IPTU_2020.csv', encoding='iso-8859-9', sep=';', decimal=',')"
   ]
  },
  {
   "cell_type": "code",
   "execution_count": 11,
   "metadata": {},
   "outputs": [],
   "source": [
    "pd.set_option('display.max_columns', None)"
   ]
  },
  {
   "cell_type": "code",
   "execution_count": 14,
   "metadata": {},
   "outputs": [
    {
     "data": {
      "text/plain": [
       "2     787414\n",
       "1     745087\n",
       "5     136667\n",
       "14    123194\n",
       "9     113328\n",
       "0     109885\n",
       "17    106278\n",
       "15    102207\n",
       "16    101663\n",
       "13    101474\n",
       "19     94258\n",
       "18     92725\n",
       "4      89182\n",
       "11     75101\n",
       "12     73939\n",
       "3      69170\n",
       "20     68740\n",
       "21     65341\n",
       "10     54057\n",
       "22     52958\n",
       "23     46993\n",
       "26     37171\n",
       "25     34425\n",
       "8      34137\n",
       "24     33044\n",
       "28     31335\n",
       "27     28296\n",
       "29     23402\n",
       "7      18087\n",
       "6      14307\n",
       "30     11564\n",
       "37      4484\n",
       "35      4109\n",
       "31      2943\n",
       "33      2456\n",
       "36      1885\n",
       "39      1651\n",
       "32      1570\n",
       "34      1359\n",
       "38      1047\n",
       "45      1027\n",
       "42       379\n",
       "46       225\n",
       "41        39\n",
       "40        35\n",
       "43         2\n",
       "50         2\n",
       "44         1\n",
       "47         1\n",
       "Name: QUANTIDADE DE PAVIMENTOS, dtype: int64"
      ]
     },
     "execution_count": 14,
     "metadata": {},
     "output_type": "execute_result"
    }
   ],
   "source": [
    "df_iptu['QUANTIDADE DE PAVIMENTOS'].value_counts()"
   ]
  },
  {
   "cell_type": "code",
   "execution_count": null,
   "metadata": {},
   "outputs": [],
   "source": []
  }
 ],
 "metadata": {
  "kernelspec": {
   "display_name": "Python 3",
   "language": "python",
   "name": "python3"
  },
  "language_info": {
   "codemirror_mode": {
    "name": "ipython",
    "version": 3
   },
   "file_extension": ".py",
   "mimetype": "text/x-python",
   "name": "python",
   "nbconvert_exporter": "python",
   "pygments_lexer": "ipython3",
   "version": "3.8.2"
  }
 },
 "nbformat": 4,
 "nbformat_minor": 4
}
